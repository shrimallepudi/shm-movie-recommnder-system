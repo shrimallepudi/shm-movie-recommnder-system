{
 "cells": [
  {
   "cell_type": "code",
   "execution_count": 73,
   "id": "eec428eb-237c-4e05-8a60-d3ad86330aa9",
   "metadata": {},
   "outputs": [],
   "source": [
    "import pandas as pd\n",
    "import numpy as np\n",
    "import ast\n",
    "import pickle\n",
    "\n",
    "#!pip install sklearn"
   ]
  },
  {
   "cell_type": "code",
   "execution_count": 2,
   "id": "5c23bae3-f3a2-4b4e-8f81-c80ceecf9986",
   "metadata": {},
   "outputs": [
    {
     "name": "stdout",
     "output_type": "stream",
     "text": [
      "Requirement already satisfied: nltk in /Library/Frameworks/Python.framework/Versions/3.8/lib/python3.8/site-packages (3.6.7)\n",
      "Requirement already satisfied: click in /Library/Frameworks/Python.framework/Versions/3.8/lib/python3.8/site-packages (from nltk) (7.1.2)\n",
      "Requirement already satisfied: joblib in /Library/Frameworks/Python.framework/Versions/3.8/lib/python3.8/site-packages (from nltk) (1.1.0)\n",
      "Requirement already satisfied: regex>=2021.8.3 in /Library/Frameworks/Python.framework/Versions/3.8/lib/python3.8/site-packages (from nltk) (2021.11.10)\n",
      "Requirement already satisfied: tqdm in /Library/Frameworks/Python.framework/Versions/3.8/lib/python3.8/site-packages (from nltk) (4.62.3)\n",
      "\u001b[33mWARNING: You are using pip version 21.0.1; however, version 21.3.1 is available.\n",
      "You should consider upgrading via the '/Library/Frameworks/Python.framework/Versions/3.8/bin/python3.8 -m pip install --upgrade pip' command.\u001b[0m\n"
     ]
    }
   ],
   "source": [
    "!pip install nltk"
   ]
  },
  {
   "cell_type": "code",
   "execution_count": 3,
   "id": "eaf229e5-5ff4-422e-9ac7-e3bcc5356af1",
   "metadata": {},
   "outputs": [],
   "source": [
    "tmdb_movies = pd.read_csv('data/tmdb_5000_movies.csv')\n",
    "tmdb_credits = pd.read_csv('data/tmdb_5000_credits.csv')"
   ]
  },
  {
   "cell_type": "code",
   "execution_count": 4,
   "id": "09fc89e4-467e-4467-9ec5-93595eb2fd0c",
   "metadata": {},
   "outputs": [
    {
     "data": {
      "text/html": [
       "<div>\n",
       "<style scoped>\n",
       "    .dataframe tbody tr th:only-of-type {\n",
       "        vertical-align: middle;\n",
       "    }\n",
       "\n",
       "    .dataframe tbody tr th {\n",
       "        vertical-align: top;\n",
       "    }\n",
       "\n",
       "    .dataframe thead th {\n",
       "        text-align: right;\n",
       "    }\n",
       "</style>\n",
       "<table border=\"1\" class=\"dataframe\">\n",
       "  <thead>\n",
       "    <tr style=\"text-align: right;\">\n",
       "      <th></th>\n",
       "      <th>budget</th>\n",
       "      <th>genres</th>\n",
       "      <th>homepage</th>\n",
       "      <th>id</th>\n",
       "      <th>keywords</th>\n",
       "      <th>original_language</th>\n",
       "      <th>original_title</th>\n",
       "      <th>overview</th>\n",
       "      <th>popularity</th>\n",
       "      <th>production_companies</th>\n",
       "      <th>production_countries</th>\n",
       "      <th>release_date</th>\n",
       "      <th>revenue</th>\n",
       "      <th>runtime</th>\n",
       "      <th>spoken_languages</th>\n",
       "      <th>status</th>\n",
       "      <th>tagline</th>\n",
       "      <th>title</th>\n",
       "      <th>vote_average</th>\n",
       "      <th>vote_count</th>\n",
       "    </tr>\n",
       "  </thead>\n",
       "  <tbody>\n",
       "    <tr>\n",
       "      <th>0</th>\n",
       "      <td>237000000</td>\n",
       "      <td>[{\"id\": 28, \"name\": \"Action\"}, {\"id\": 12, \"nam...</td>\n",
       "      <td>http://www.avatarmovie.com/</td>\n",
       "      <td>19995</td>\n",
       "      <td>[{\"id\": 1463, \"name\": \"culture clash\"}, {\"id\":...</td>\n",
       "      <td>en</td>\n",
       "      <td>Avatar</td>\n",
       "      <td>In the 22nd century, a paraplegic Marine is di...</td>\n",
       "      <td>150.437577</td>\n",
       "      <td>[{\"name\": \"Ingenious Film Partners\", \"id\": 289...</td>\n",
       "      <td>[{\"iso_3166_1\": \"US\", \"name\": \"United States o...</td>\n",
       "      <td>2009-12-10</td>\n",
       "      <td>2787965087</td>\n",
       "      <td>162.0</td>\n",
       "      <td>[{\"iso_639_1\": \"en\", \"name\": \"English\"}, {\"iso...</td>\n",
       "      <td>Released</td>\n",
       "      <td>Enter the World of Pandora.</td>\n",
       "      <td>Avatar</td>\n",
       "      <td>7.2</td>\n",
       "      <td>11800</td>\n",
       "    </tr>\n",
       "    <tr>\n",
       "      <th>1</th>\n",
       "      <td>300000000</td>\n",
       "      <td>[{\"id\": 12, \"name\": \"Adventure\"}, {\"id\": 14, \"...</td>\n",
       "      <td>http://disney.go.com/disneypictures/pirates/</td>\n",
       "      <td>285</td>\n",
       "      <td>[{\"id\": 270, \"name\": \"ocean\"}, {\"id\": 726, \"na...</td>\n",
       "      <td>en</td>\n",
       "      <td>Pirates of the Caribbean: At World's End</td>\n",
       "      <td>Captain Barbossa, long believed to be dead, ha...</td>\n",
       "      <td>139.082615</td>\n",
       "      <td>[{\"name\": \"Walt Disney Pictures\", \"id\": 2}, {\"...</td>\n",
       "      <td>[{\"iso_3166_1\": \"US\", \"name\": \"United States o...</td>\n",
       "      <td>2007-05-19</td>\n",
       "      <td>961000000</td>\n",
       "      <td>169.0</td>\n",
       "      <td>[{\"iso_639_1\": \"en\", \"name\": \"English\"}]</td>\n",
       "      <td>Released</td>\n",
       "      <td>At the end of the world, the adventure begins.</td>\n",
       "      <td>Pirates of the Caribbean: At World's End</td>\n",
       "      <td>6.9</td>\n",
       "      <td>4500</td>\n",
       "    </tr>\n",
       "    <tr>\n",
       "      <th>2</th>\n",
       "      <td>245000000</td>\n",
       "      <td>[{\"id\": 28, \"name\": \"Action\"}, {\"id\": 12, \"nam...</td>\n",
       "      <td>http://www.sonypictures.com/movies/spectre/</td>\n",
       "      <td>206647</td>\n",
       "      <td>[{\"id\": 470, \"name\": \"spy\"}, {\"id\": 818, \"name...</td>\n",
       "      <td>en</td>\n",
       "      <td>Spectre</td>\n",
       "      <td>A cryptic message from Bond’s past sends him o...</td>\n",
       "      <td>107.376788</td>\n",
       "      <td>[{\"name\": \"Columbia Pictures\", \"id\": 5}, {\"nam...</td>\n",
       "      <td>[{\"iso_3166_1\": \"GB\", \"name\": \"United Kingdom\"...</td>\n",
       "      <td>2015-10-26</td>\n",
       "      <td>880674609</td>\n",
       "      <td>148.0</td>\n",
       "      <td>[{\"iso_639_1\": \"fr\", \"name\": \"Fran\\u00e7ais\"},...</td>\n",
       "      <td>Released</td>\n",
       "      <td>A Plan No One Escapes</td>\n",
       "      <td>Spectre</td>\n",
       "      <td>6.3</td>\n",
       "      <td>4466</td>\n",
       "    </tr>\n",
       "    <tr>\n",
       "      <th>3</th>\n",
       "      <td>250000000</td>\n",
       "      <td>[{\"id\": 28, \"name\": \"Action\"}, {\"id\": 80, \"nam...</td>\n",
       "      <td>http://www.thedarkknightrises.com/</td>\n",
       "      <td>49026</td>\n",
       "      <td>[{\"id\": 849, \"name\": \"dc comics\"}, {\"id\": 853,...</td>\n",
       "      <td>en</td>\n",
       "      <td>The Dark Knight Rises</td>\n",
       "      <td>Following the death of District Attorney Harve...</td>\n",
       "      <td>112.312950</td>\n",
       "      <td>[{\"name\": \"Legendary Pictures\", \"id\": 923}, {\"...</td>\n",
       "      <td>[{\"iso_3166_1\": \"US\", \"name\": \"United States o...</td>\n",
       "      <td>2012-07-16</td>\n",
       "      <td>1084939099</td>\n",
       "      <td>165.0</td>\n",
       "      <td>[{\"iso_639_1\": \"en\", \"name\": \"English\"}]</td>\n",
       "      <td>Released</td>\n",
       "      <td>The Legend Ends</td>\n",
       "      <td>The Dark Knight Rises</td>\n",
       "      <td>7.6</td>\n",
       "      <td>9106</td>\n",
       "    </tr>\n",
       "    <tr>\n",
       "      <th>4</th>\n",
       "      <td>260000000</td>\n",
       "      <td>[{\"id\": 28, \"name\": \"Action\"}, {\"id\": 12, \"nam...</td>\n",
       "      <td>http://movies.disney.com/john-carter</td>\n",
       "      <td>49529</td>\n",
       "      <td>[{\"id\": 818, \"name\": \"based on novel\"}, {\"id\":...</td>\n",
       "      <td>en</td>\n",
       "      <td>John Carter</td>\n",
       "      <td>John Carter is a war-weary, former military ca...</td>\n",
       "      <td>43.926995</td>\n",
       "      <td>[{\"name\": \"Walt Disney Pictures\", \"id\": 2}]</td>\n",
       "      <td>[{\"iso_3166_1\": \"US\", \"name\": \"United States o...</td>\n",
       "      <td>2012-03-07</td>\n",
       "      <td>284139100</td>\n",
       "      <td>132.0</td>\n",
       "      <td>[{\"iso_639_1\": \"en\", \"name\": \"English\"}]</td>\n",
       "      <td>Released</td>\n",
       "      <td>Lost in our world, found in another.</td>\n",
       "      <td>John Carter</td>\n",
       "      <td>6.1</td>\n",
       "      <td>2124</td>\n",
       "    </tr>\n",
       "  </tbody>\n",
       "</table>\n",
       "</div>"
      ],
      "text/plain": [
       "      budget                                             genres  \\\n",
       "0  237000000  [{\"id\": 28, \"name\": \"Action\"}, {\"id\": 12, \"nam...   \n",
       "1  300000000  [{\"id\": 12, \"name\": \"Adventure\"}, {\"id\": 14, \"...   \n",
       "2  245000000  [{\"id\": 28, \"name\": \"Action\"}, {\"id\": 12, \"nam...   \n",
       "3  250000000  [{\"id\": 28, \"name\": \"Action\"}, {\"id\": 80, \"nam...   \n",
       "4  260000000  [{\"id\": 28, \"name\": \"Action\"}, {\"id\": 12, \"nam...   \n",
       "\n",
       "                                       homepage      id  \\\n",
       "0                   http://www.avatarmovie.com/   19995   \n",
       "1  http://disney.go.com/disneypictures/pirates/     285   \n",
       "2   http://www.sonypictures.com/movies/spectre/  206647   \n",
       "3            http://www.thedarkknightrises.com/   49026   \n",
       "4          http://movies.disney.com/john-carter   49529   \n",
       "\n",
       "                                            keywords original_language  \\\n",
       "0  [{\"id\": 1463, \"name\": \"culture clash\"}, {\"id\":...                en   \n",
       "1  [{\"id\": 270, \"name\": \"ocean\"}, {\"id\": 726, \"na...                en   \n",
       "2  [{\"id\": 470, \"name\": \"spy\"}, {\"id\": 818, \"name...                en   \n",
       "3  [{\"id\": 849, \"name\": \"dc comics\"}, {\"id\": 853,...                en   \n",
       "4  [{\"id\": 818, \"name\": \"based on novel\"}, {\"id\":...                en   \n",
       "\n",
       "                             original_title  \\\n",
       "0                                    Avatar   \n",
       "1  Pirates of the Caribbean: At World's End   \n",
       "2                                   Spectre   \n",
       "3                     The Dark Knight Rises   \n",
       "4                               John Carter   \n",
       "\n",
       "                                            overview  popularity  \\\n",
       "0  In the 22nd century, a paraplegic Marine is di...  150.437577   \n",
       "1  Captain Barbossa, long believed to be dead, ha...  139.082615   \n",
       "2  A cryptic message from Bond’s past sends him o...  107.376788   \n",
       "3  Following the death of District Attorney Harve...  112.312950   \n",
       "4  John Carter is a war-weary, former military ca...   43.926995   \n",
       "\n",
       "                                production_companies  \\\n",
       "0  [{\"name\": \"Ingenious Film Partners\", \"id\": 289...   \n",
       "1  [{\"name\": \"Walt Disney Pictures\", \"id\": 2}, {\"...   \n",
       "2  [{\"name\": \"Columbia Pictures\", \"id\": 5}, {\"nam...   \n",
       "3  [{\"name\": \"Legendary Pictures\", \"id\": 923}, {\"...   \n",
       "4        [{\"name\": \"Walt Disney Pictures\", \"id\": 2}]   \n",
       "\n",
       "                                production_countries release_date     revenue  \\\n",
       "0  [{\"iso_3166_1\": \"US\", \"name\": \"United States o...   2009-12-10  2787965087   \n",
       "1  [{\"iso_3166_1\": \"US\", \"name\": \"United States o...   2007-05-19   961000000   \n",
       "2  [{\"iso_3166_1\": \"GB\", \"name\": \"United Kingdom\"...   2015-10-26   880674609   \n",
       "3  [{\"iso_3166_1\": \"US\", \"name\": \"United States o...   2012-07-16  1084939099   \n",
       "4  [{\"iso_3166_1\": \"US\", \"name\": \"United States o...   2012-03-07   284139100   \n",
       "\n",
       "   runtime                                   spoken_languages    status  \\\n",
       "0    162.0  [{\"iso_639_1\": \"en\", \"name\": \"English\"}, {\"iso...  Released   \n",
       "1    169.0           [{\"iso_639_1\": \"en\", \"name\": \"English\"}]  Released   \n",
       "2    148.0  [{\"iso_639_1\": \"fr\", \"name\": \"Fran\\u00e7ais\"},...  Released   \n",
       "3    165.0           [{\"iso_639_1\": \"en\", \"name\": \"English\"}]  Released   \n",
       "4    132.0           [{\"iso_639_1\": \"en\", \"name\": \"English\"}]  Released   \n",
       "\n",
       "                                          tagline  \\\n",
       "0                     Enter the World of Pandora.   \n",
       "1  At the end of the world, the adventure begins.   \n",
       "2                           A Plan No One Escapes   \n",
       "3                                 The Legend Ends   \n",
       "4            Lost in our world, found in another.   \n",
       "\n",
       "                                      title  vote_average  vote_count  \n",
       "0                                    Avatar           7.2       11800  \n",
       "1  Pirates of the Caribbean: At World's End           6.9        4500  \n",
       "2                                   Spectre           6.3        4466  \n",
       "3                     The Dark Knight Rises           7.6        9106  \n",
       "4                               John Carter           6.1        2124  "
      ]
     },
     "execution_count": 4,
     "metadata": {},
     "output_type": "execute_result"
    }
   ],
   "source": [
    "tmdb_movies.head()"
   ]
  },
  {
   "cell_type": "code",
   "execution_count": 5,
   "id": "50b67cb5-6050-4c4d-ab72-b668f460cfd6",
   "metadata": {},
   "outputs": [
    {
     "data": {
      "text/html": [
       "<div>\n",
       "<style scoped>\n",
       "    .dataframe tbody tr th:only-of-type {\n",
       "        vertical-align: middle;\n",
       "    }\n",
       "\n",
       "    .dataframe tbody tr th {\n",
       "        vertical-align: top;\n",
       "    }\n",
       "\n",
       "    .dataframe thead th {\n",
       "        text-align: right;\n",
       "    }\n",
       "</style>\n",
       "<table border=\"1\" class=\"dataframe\">\n",
       "  <thead>\n",
       "    <tr style=\"text-align: right;\">\n",
       "      <th></th>\n",
       "      <th>movie_id</th>\n",
       "      <th>title</th>\n",
       "      <th>cast</th>\n",
       "      <th>crew</th>\n",
       "    </tr>\n",
       "  </thead>\n",
       "  <tbody>\n",
       "    <tr>\n",
       "      <th>0</th>\n",
       "      <td>19995</td>\n",
       "      <td>Avatar</td>\n",
       "      <td>[{\"cast_id\": 242, \"character\": \"Jake Sully\", \"...</td>\n",
       "      <td>[{\"credit_id\": \"52fe48009251416c750aca23\", \"de...</td>\n",
       "    </tr>\n",
       "    <tr>\n",
       "      <th>1</th>\n",
       "      <td>285</td>\n",
       "      <td>Pirates of the Caribbean: At World's End</td>\n",
       "      <td>[{\"cast_id\": 4, \"character\": \"Captain Jack Spa...</td>\n",
       "      <td>[{\"credit_id\": \"52fe4232c3a36847f800b579\", \"de...</td>\n",
       "    </tr>\n",
       "    <tr>\n",
       "      <th>2</th>\n",
       "      <td>206647</td>\n",
       "      <td>Spectre</td>\n",
       "      <td>[{\"cast_id\": 1, \"character\": \"James Bond\", \"cr...</td>\n",
       "      <td>[{\"credit_id\": \"54805967c3a36829b5002c41\", \"de...</td>\n",
       "    </tr>\n",
       "    <tr>\n",
       "      <th>3</th>\n",
       "      <td>49026</td>\n",
       "      <td>The Dark Knight Rises</td>\n",
       "      <td>[{\"cast_id\": 2, \"character\": \"Bruce Wayne / Ba...</td>\n",
       "      <td>[{\"credit_id\": \"52fe4781c3a36847f81398c3\", \"de...</td>\n",
       "    </tr>\n",
       "    <tr>\n",
       "      <th>4</th>\n",
       "      <td>49529</td>\n",
       "      <td>John Carter</td>\n",
       "      <td>[{\"cast_id\": 5, \"character\": \"John Carter\", \"c...</td>\n",
       "      <td>[{\"credit_id\": \"52fe479ac3a36847f813eaa3\", \"de...</td>\n",
       "    </tr>\n",
       "  </tbody>\n",
       "</table>\n",
       "</div>"
      ],
      "text/plain": [
       "   movie_id                                     title  \\\n",
       "0     19995                                    Avatar   \n",
       "1       285  Pirates of the Caribbean: At World's End   \n",
       "2    206647                                   Spectre   \n",
       "3     49026                     The Dark Knight Rises   \n",
       "4     49529                               John Carter   \n",
       "\n",
       "                                                cast  \\\n",
       "0  [{\"cast_id\": 242, \"character\": \"Jake Sully\", \"...   \n",
       "1  [{\"cast_id\": 4, \"character\": \"Captain Jack Spa...   \n",
       "2  [{\"cast_id\": 1, \"character\": \"James Bond\", \"cr...   \n",
       "3  [{\"cast_id\": 2, \"character\": \"Bruce Wayne / Ba...   \n",
       "4  [{\"cast_id\": 5, \"character\": \"John Carter\", \"c...   \n",
       "\n",
       "                                                crew  \n",
       "0  [{\"credit_id\": \"52fe48009251416c750aca23\", \"de...  \n",
       "1  [{\"credit_id\": \"52fe4232c3a36847f800b579\", \"de...  \n",
       "2  [{\"credit_id\": \"54805967c3a36829b5002c41\", \"de...  \n",
       "3  [{\"credit_id\": \"52fe4781c3a36847f81398c3\", \"de...  \n",
       "4  [{\"credit_id\": \"52fe479ac3a36847f813eaa3\", \"de...  "
      ]
     },
     "execution_count": 5,
     "metadata": {},
     "output_type": "execute_result"
    }
   ],
   "source": [
    "tmdb_credits.head()"
   ]
  },
  {
   "cell_type": "code",
   "execution_count": 6,
   "id": "a6914ea7-edec-4eb9-98a2-dab1607e2457",
   "metadata": {},
   "outputs": [],
   "source": [
    "tmdb_movies = tmdb_movies.merge(tmdb_credits,on='title')"
   ]
  },
  {
   "cell_type": "code",
   "execution_count": 7,
   "id": "14ff53e1-7def-48d0-afe4-ad34d1a44f7d",
   "metadata": {},
   "outputs": [
    {
     "data": {
      "text/plain": [
       "(4809, 23)"
      ]
     },
     "execution_count": 7,
     "metadata": {},
     "output_type": "execute_result"
    }
   ],
   "source": [
    "tmdb_movies.shape"
   ]
  },
  {
   "cell_type": "code",
   "execution_count": 8,
   "id": "0f1836a0-73ac-4d1e-9bd3-e2cca5ea48e2",
   "metadata": {},
   "outputs": [
    {
     "name": "stdout",
     "output_type": "stream",
     "text": [
      "<class 'pandas.core.frame.DataFrame'>\n",
      "Int64Index: 4809 entries, 0 to 4808\n",
      "Data columns (total 23 columns):\n",
      " #   Column                Non-Null Count  Dtype  \n",
      "---  ------                --------------  -----  \n",
      " 0   budget                4809 non-null   int64  \n",
      " 1   genres                4809 non-null   object \n",
      " 2   homepage              1713 non-null   object \n",
      " 3   id                    4809 non-null   int64  \n",
      " 4   keywords              4809 non-null   object \n",
      " 5   original_language     4809 non-null   object \n",
      " 6   original_title        4809 non-null   object \n",
      " 7   overview              4806 non-null   object \n",
      " 8   popularity            4809 non-null   float64\n",
      " 9   production_companies  4809 non-null   object \n",
      " 10  production_countries  4809 non-null   object \n",
      " 11  release_date          4808 non-null   object \n",
      " 12  revenue               4809 non-null   int64  \n",
      " 13  runtime               4807 non-null   float64\n",
      " 14  spoken_languages      4809 non-null   object \n",
      " 15  status                4809 non-null   object \n",
      " 16  tagline               3965 non-null   object \n",
      " 17  title                 4809 non-null   object \n",
      " 18  vote_average          4809 non-null   float64\n",
      " 19  vote_count            4809 non-null   int64  \n",
      " 20  movie_id              4809 non-null   int64  \n",
      " 21  cast                  4809 non-null   object \n",
      " 22  crew                  4809 non-null   object \n",
      "dtypes: float64(3), int64(5), object(15)\n",
      "memory usage: 901.7+ KB\n"
     ]
    }
   ],
   "source": [
    "tmdb_movies.info()"
   ]
  },
  {
   "cell_type": "code",
   "execution_count": 9,
   "id": "3fd4c8d9-d00f-4676-82e5-72996f4e2f98",
   "metadata": {},
   "outputs": [],
   "source": [
    "columns = ['genres','id','keywords','title','overview','cast','crew']\n",
    "\n",
    "tmdb_movies = tmdb_movies[columns]"
   ]
  },
  {
   "cell_type": "code",
   "execution_count": 10,
   "id": "72792385-df6c-48f4-8988-31839df2e1a4",
   "metadata": {},
   "outputs": [
    {
     "data": {
      "text/html": [
       "<div>\n",
       "<style scoped>\n",
       "    .dataframe tbody tr th:only-of-type {\n",
       "        vertical-align: middle;\n",
       "    }\n",
       "\n",
       "    .dataframe tbody tr th {\n",
       "        vertical-align: top;\n",
       "    }\n",
       "\n",
       "    .dataframe thead th {\n",
       "        text-align: right;\n",
       "    }\n",
       "</style>\n",
       "<table border=\"1\" class=\"dataframe\">\n",
       "  <thead>\n",
       "    <tr style=\"text-align: right;\">\n",
       "      <th></th>\n",
       "      <th>genres</th>\n",
       "      <th>id</th>\n",
       "      <th>keywords</th>\n",
       "      <th>title</th>\n",
       "      <th>overview</th>\n",
       "      <th>cast</th>\n",
       "      <th>crew</th>\n",
       "    </tr>\n",
       "  </thead>\n",
       "  <tbody>\n",
       "    <tr>\n",
       "      <th>0</th>\n",
       "      <td>[{\"id\": 28, \"name\": \"Action\"}, {\"id\": 12, \"nam...</td>\n",
       "      <td>19995</td>\n",
       "      <td>[{\"id\": 1463, \"name\": \"culture clash\"}, {\"id\":...</td>\n",
       "      <td>Avatar</td>\n",
       "      <td>In the 22nd century, a paraplegic Marine is di...</td>\n",
       "      <td>[{\"cast_id\": 242, \"character\": \"Jake Sully\", \"...</td>\n",
       "      <td>[{\"credit_id\": \"52fe48009251416c750aca23\", \"de...</td>\n",
       "    </tr>\n",
       "  </tbody>\n",
       "</table>\n",
       "</div>"
      ],
      "text/plain": [
       "                                              genres     id  \\\n",
       "0  [{\"id\": 28, \"name\": \"Action\"}, {\"id\": 12, \"nam...  19995   \n",
       "\n",
       "                                            keywords   title  \\\n",
       "0  [{\"id\": 1463, \"name\": \"culture clash\"}, {\"id\":...  Avatar   \n",
       "\n",
       "                                            overview  \\\n",
       "0  In the 22nd century, a paraplegic Marine is di...   \n",
       "\n",
       "                                                cast  \\\n",
       "0  [{\"cast_id\": 242, \"character\": \"Jake Sully\", \"...   \n",
       "\n",
       "                                                crew  \n",
       "0  [{\"credit_id\": \"52fe48009251416c750aca23\", \"de...  "
      ]
     },
     "execution_count": 10,
     "metadata": {},
     "output_type": "execute_result"
    }
   ],
   "source": [
    "tmdb_movies.head(1)"
   ]
  },
  {
   "cell_type": "code",
   "execution_count": 11,
   "id": "7a5420e3-67d3-4c58-8c1e-c6a7748854ae",
   "metadata": {},
   "outputs": [
    {
     "data": {
      "text/plain": [
       "genres      0\n",
       "id          0\n",
       "keywords    0\n",
       "title       0\n",
       "overview    3\n",
       "cast        0\n",
       "crew        0\n",
       "dtype: int64"
      ]
     },
     "execution_count": 11,
     "metadata": {},
     "output_type": "execute_result"
    }
   ],
   "source": [
    "tmdb_movies.isnull().sum()"
   ]
  },
  {
   "cell_type": "code",
   "execution_count": 12,
   "id": "e481ec08-0f5c-4f30-b35a-52f136bb1f4b",
   "metadata": {},
   "outputs": [],
   "source": [
    "tmdb_movies.dropna(inplace=True)"
   ]
  },
  {
   "cell_type": "code",
   "execution_count": 13,
   "id": "62c01c85-00a8-4c23-a9cb-1c539c10ba22",
   "metadata": {},
   "outputs": [
    {
     "data": {
      "text/plain": [
       "0"
      ]
     },
     "execution_count": 13,
     "metadata": {},
     "output_type": "execute_result"
    }
   ],
   "source": [
    "tmdb_movies.duplicated().sum()"
   ]
  },
  {
   "cell_type": "markdown",
   "id": "27eded75-848b-4d15-8869-d6f5fa2288f1",
   "metadata": {},
   "source": [
    "We have to convert the values from the genres column to much simpler text like Action. Adventure etc as that's what we would need. We can ignore the id column here as it's not required. So, let's define a function (simplify) to do this job for us."
   ]
  },
  {
   "cell_type": "code",
   "execution_count": 14,
   "id": "e82e7e3c-dab6-4da9-bf1f-e2121aa1b2f8",
   "metadata": {},
   "outputs": [
    {
     "data": {
      "text/plain": [
       "'[{\"id\": 28, \"name\": \"Action\"}, {\"id\": 12, \"name\": \"Adventure\"}, {\"id\": 14, \"name\": \"Fantasy\"}, {\"id\": 878, \"name\": \"Science Fiction\"}]'"
      ]
     },
     "execution_count": 14,
     "metadata": {},
     "output_type": "execute_result"
    }
   ],
   "source": [
    "tmdb_movies.iloc[0].genres"
   ]
  },
  {
   "cell_type": "code",
   "execution_count": 15,
   "id": "60461ee4-d815-417a-afbe-556f054fb841",
   "metadata": {},
   "outputs": [],
   "source": [
    "def simplify(obj,key_to_use):\n",
    "    l = []\n",
    "    for i in ast.literal_eval(obj):\n",
    "        l.append(i[key_to_use])\n",
    "    return l\n",
    "\n",
    "def simplify_3(obj,key_to_use):\n",
    "    l = []\n",
    "    count=0\n",
    "    for i in ast.literal_eval(obj):\n",
    "        if count != 3:\n",
    "            l.append(i[key_to_use])\n",
    "            count+=1\n",
    "        else:\n",
    "            break\n",
    "    return l\n",
    "\n",
    "def get_crew(obj,job_title,key_to_fetch):\n",
    "    l = []\n",
    "    for i in ast.literal_eval(obj):\n",
    "        if i['job']==job_title:\n",
    "            l.append(i[key_to_fetch])\n",
    "            break\n",
    "    return l"
   ]
  },
  {
   "cell_type": "code",
   "execution_count": 16,
   "id": "8f49b9e0-c158-4670-a284-b5db1bd7b3a5",
   "metadata": {},
   "outputs": [],
   "source": [
    "tmdb_movies['genres']=tmdb_movies['genres'].apply(simplify, args=['name'])"
   ]
  },
  {
   "cell_type": "code",
   "execution_count": 17,
   "id": "b131e741-c54c-4c86-bc25-e5fdee4c8ae5",
   "metadata": {},
   "outputs": [],
   "source": [
    "tmdb_movies['keywords']=tmdb_movies['keywords'].apply(simplify, args=['name'])"
   ]
  },
  {
   "cell_type": "code",
   "execution_count": 18,
   "id": "12d86185-5a2b-499e-99ca-c19ce3431920",
   "metadata": {},
   "outputs": [],
   "source": [
    "tmdb_movies['cast']=tmdb_movies['cast'].apply(simplify_3, args=['name'])"
   ]
  },
  {
   "cell_type": "code",
   "execution_count": 19,
   "id": "3e48d76d-7a2b-48c8-8b2a-c36eb5a3af66",
   "metadata": {},
   "outputs": [],
   "source": [
    "tmdb_movies['crew']=tmdb_movies['crew'].apply(get_crew, args=['Director','name'])"
   ]
  },
  {
   "cell_type": "code",
   "execution_count": 20,
   "id": "7a0e6a65-f6dc-401b-bff1-1339328bf14c",
   "metadata": {},
   "outputs": [
    {
     "data": {
      "text/html": [
       "<div>\n",
       "<style scoped>\n",
       "    .dataframe tbody tr th:only-of-type {\n",
       "        vertical-align: middle;\n",
       "    }\n",
       "\n",
       "    .dataframe tbody tr th {\n",
       "        vertical-align: top;\n",
       "    }\n",
       "\n",
       "    .dataframe thead th {\n",
       "        text-align: right;\n",
       "    }\n",
       "</style>\n",
       "<table border=\"1\" class=\"dataframe\">\n",
       "  <thead>\n",
       "    <tr style=\"text-align: right;\">\n",
       "      <th></th>\n",
       "      <th>genres</th>\n",
       "      <th>id</th>\n",
       "      <th>keywords</th>\n",
       "      <th>title</th>\n",
       "      <th>overview</th>\n",
       "      <th>cast</th>\n",
       "      <th>crew</th>\n",
       "    </tr>\n",
       "  </thead>\n",
       "  <tbody>\n",
       "    <tr>\n",
       "      <th>0</th>\n",
       "      <td>[Action, Adventure, Fantasy, Science Fiction]</td>\n",
       "      <td>19995</td>\n",
       "      <td>[culture clash, future, space war, space colon...</td>\n",
       "      <td>Avatar</td>\n",
       "      <td>In the 22nd century, a paraplegic Marine is di...</td>\n",
       "      <td>[Sam Worthington, Zoe Saldana, Sigourney Weaver]</td>\n",
       "      <td>[James Cameron]</td>\n",
       "    </tr>\n",
       "  </tbody>\n",
       "</table>\n",
       "</div>"
      ],
      "text/plain": [
       "                                          genres     id  \\\n",
       "0  [Action, Adventure, Fantasy, Science Fiction]  19995   \n",
       "\n",
       "                                            keywords   title  \\\n",
       "0  [culture clash, future, space war, space colon...  Avatar   \n",
       "\n",
       "                                            overview  \\\n",
       "0  In the 22nd century, a paraplegic Marine is di...   \n",
       "\n",
       "                                               cast             crew  \n",
       "0  [Sam Worthington, Zoe Saldana, Sigourney Weaver]  [James Cameron]  "
      ]
     },
     "execution_count": 20,
     "metadata": {},
     "output_type": "execute_result"
    }
   ],
   "source": [
    "tmdb_movies.head(1)"
   ]
  },
  {
   "cell_type": "code",
   "execution_count": 21,
   "id": "b36899c2-905d-4701-aea6-f10b80ff3150",
   "metadata": {},
   "outputs": [],
   "source": [
    "tmdb_movies['overview'] = tmdb_movies['overview'].apply(lambda x:x.split()) "
   ]
  },
  {
   "cell_type": "code",
   "execution_count": 22,
   "id": "3be43055-0224-4277-b47c-ca3ab9c1b502",
   "metadata": {},
   "outputs": [],
   "source": [
    "tmdb_movies['genres'] = tmdb_movies['genres'].apply(lambda x:[i.replace(\" \",\"\") for i in x])\n",
    "tmdb_movies['keywords'] = tmdb_movies['keywords'].apply(lambda x:[i.replace(\" \",\"\") for i in x])\n",
    "tmdb_movies['cast'] = tmdb_movies['cast'].apply(lambda x:[i.replace(\" \",\"\") for i in x])\n",
    "tmdb_movies['crew'] = tmdb_movies['crew'].apply(lambda x:[i.replace(\" \",\"\") for i in x])"
   ]
  },
  {
   "cell_type": "code",
   "execution_count": 23,
   "id": "f4650f63-2eb6-45cc-9c1c-51a97e30cb93",
   "metadata": {},
   "outputs": [],
   "source": [
    "tmdb_movies['tags'] = tmdb_movies['overview'] + tmdb_movies['genres'] + tmdb_movies['keywords'] + tmdb_movies['cast'] + tmdb_movies['crew']"
   ]
  },
  {
   "cell_type": "code",
   "execution_count": 24,
   "id": "618ab788-8de7-4978-a984-37e94d2b1be2",
   "metadata": {},
   "outputs": [
    {
     "data": {
      "text/html": [
       "<div>\n",
       "<style scoped>\n",
       "    .dataframe tbody tr th:only-of-type {\n",
       "        vertical-align: middle;\n",
       "    }\n",
       "\n",
       "    .dataframe tbody tr th {\n",
       "        vertical-align: top;\n",
       "    }\n",
       "\n",
       "    .dataframe thead th {\n",
       "        text-align: right;\n",
       "    }\n",
       "</style>\n",
       "<table border=\"1\" class=\"dataframe\">\n",
       "  <thead>\n",
       "    <tr style=\"text-align: right;\">\n",
       "      <th></th>\n",
       "      <th>genres</th>\n",
       "      <th>id</th>\n",
       "      <th>keywords</th>\n",
       "      <th>title</th>\n",
       "      <th>overview</th>\n",
       "      <th>cast</th>\n",
       "      <th>crew</th>\n",
       "      <th>tags</th>\n",
       "    </tr>\n",
       "  </thead>\n",
       "  <tbody>\n",
       "    <tr>\n",
       "      <th>0</th>\n",
       "      <td>[Action, Adventure, Fantasy, ScienceFiction]</td>\n",
       "      <td>19995</td>\n",
       "      <td>[cultureclash, future, spacewar, spacecolony, ...</td>\n",
       "      <td>Avatar</td>\n",
       "      <td>[In, the, 22nd, century,, a, paraplegic, Marin...</td>\n",
       "      <td>[SamWorthington, ZoeSaldana, SigourneyWeaver]</td>\n",
       "      <td>[JamesCameron]</td>\n",
       "      <td>[In, the, 22nd, century,, a, paraplegic, Marin...</td>\n",
       "    </tr>\n",
       "  </tbody>\n",
       "</table>\n",
       "</div>"
      ],
      "text/plain": [
       "                                         genres     id  \\\n",
       "0  [Action, Adventure, Fantasy, ScienceFiction]  19995   \n",
       "\n",
       "                                            keywords   title  \\\n",
       "0  [cultureclash, future, spacewar, spacecolony, ...  Avatar   \n",
       "\n",
       "                                            overview  \\\n",
       "0  [In, the, 22nd, century,, a, paraplegic, Marin...   \n",
       "\n",
       "                                            cast            crew  \\\n",
       "0  [SamWorthington, ZoeSaldana, SigourneyWeaver]  [JamesCameron]   \n",
       "\n",
       "                                                tags  \n",
       "0  [In, the, 22nd, century,, a, paraplegic, Marin...  "
      ]
     },
     "execution_count": 24,
     "metadata": {},
     "output_type": "execute_result"
    }
   ],
   "source": [
    "tmdb_movies.head(1)"
   ]
  },
  {
   "cell_type": "code",
   "execution_count": 25,
   "id": "6df83e1c-5989-4ced-b7c6-adc176255173",
   "metadata": {},
   "outputs": [],
   "source": [
    "movies = tmdb_movies[['id', 'title', 'tags']]"
   ]
  },
  {
   "cell_type": "code",
   "execution_count": 26,
   "id": "1e24bbb2-ebcd-42fb-bf52-375c7ffad6ac",
   "metadata": {},
   "outputs": [
    {
     "data": {
      "text/html": [
       "<div>\n",
       "<style scoped>\n",
       "    .dataframe tbody tr th:only-of-type {\n",
       "        vertical-align: middle;\n",
       "    }\n",
       "\n",
       "    .dataframe tbody tr th {\n",
       "        vertical-align: top;\n",
       "    }\n",
       "\n",
       "    .dataframe thead th {\n",
       "        text-align: right;\n",
       "    }\n",
       "</style>\n",
       "<table border=\"1\" class=\"dataframe\">\n",
       "  <thead>\n",
       "    <tr style=\"text-align: right;\">\n",
       "      <th></th>\n",
       "      <th>id</th>\n",
       "      <th>title</th>\n",
       "      <th>tags</th>\n",
       "    </tr>\n",
       "  </thead>\n",
       "  <tbody>\n",
       "    <tr>\n",
       "      <th>0</th>\n",
       "      <td>19995</td>\n",
       "      <td>Avatar</td>\n",
       "      <td>[In, the, 22nd, century,, a, paraplegic, Marin...</td>\n",
       "    </tr>\n",
       "  </tbody>\n",
       "</table>\n",
       "</div>"
      ],
      "text/plain": [
       "      id   title                                               tags\n",
       "0  19995  Avatar  [In, the, 22nd, century,, a, paraplegic, Marin..."
      ]
     },
     "execution_count": 26,
     "metadata": {},
     "output_type": "execute_result"
    }
   ],
   "source": [
    "movies.head(1)"
   ]
  },
  {
   "cell_type": "code",
   "execution_count": 27,
   "id": "89c1251d-2ad8-43bd-8b81-a4b47987e726",
   "metadata": {},
   "outputs": [
    {
     "name": "stderr",
     "output_type": "stream",
     "text": [
      "/var/folders/40/s1y2tk9s1lg1gxbk041r8mhm0000gp/T/ipykernel_8063/2975052693.py:1: SettingWithCopyWarning: \n",
      "A value is trying to be set on a copy of a slice from a DataFrame.\n",
      "Try using .loc[row_indexer,col_indexer] = value instead\n",
      "\n",
      "See the caveats in the documentation: https://pandas.pydata.org/pandas-docs/stable/user_guide/indexing.html#returning-a-view-versus-a-copy\n",
      "  movies['tags'] = movies['tags'].apply(lambda x:\" \".join(x))\n"
     ]
    }
   ],
   "source": [
    "movies['tags'] = movies['tags'].apply(lambda x:\" \".join(x))"
   ]
  },
  {
   "cell_type": "code",
   "execution_count": 28,
   "id": "03c4889f-9cfb-412e-9614-c4e6041f109f",
   "metadata": {},
   "outputs": [
    {
     "name": "stderr",
     "output_type": "stream",
     "text": [
      "/var/folders/40/s1y2tk9s1lg1gxbk041r8mhm0000gp/T/ipykernel_8063/1170348455.py:1: SettingWithCopyWarning: \n",
      "A value is trying to be set on a copy of a slice from a DataFrame.\n",
      "Try using .loc[row_indexer,col_indexer] = value instead\n",
      "\n",
      "See the caveats in the documentation: https://pandas.pydata.org/pandas-docs/stable/user_guide/indexing.html#returning-a-view-versus-a-copy\n",
      "  movies['tags'] = movies['tags'].apply(lambda x:x.lower())\n"
     ]
    }
   ],
   "source": [
    "movies['tags'] = movies['tags'].apply(lambda x:x.lower())"
   ]
  },
  {
   "cell_type": "code",
   "execution_count": 29,
   "id": "eee47d6d-a7f1-46b7-88c3-0bf552e28b04",
   "metadata": {},
   "outputs": [
    {
     "data": {
      "text/html": [
       "<div>\n",
       "<style scoped>\n",
       "    .dataframe tbody tr th:only-of-type {\n",
       "        vertical-align: middle;\n",
       "    }\n",
       "\n",
       "    .dataframe tbody tr th {\n",
       "        vertical-align: top;\n",
       "    }\n",
       "\n",
       "    .dataframe thead th {\n",
       "        text-align: right;\n",
       "    }\n",
       "</style>\n",
       "<table border=\"1\" class=\"dataframe\">\n",
       "  <thead>\n",
       "    <tr style=\"text-align: right;\">\n",
       "      <th></th>\n",
       "      <th>id</th>\n",
       "      <th>title</th>\n",
       "      <th>tags</th>\n",
       "    </tr>\n",
       "  </thead>\n",
       "  <tbody>\n",
       "    <tr>\n",
       "      <th>0</th>\n",
       "      <td>19995</td>\n",
       "      <td>Avatar</td>\n",
       "      <td>in the 22nd century, a paraplegic marine is di...</td>\n",
       "    </tr>\n",
       "  </tbody>\n",
       "</table>\n",
       "</div>"
      ],
      "text/plain": [
       "      id   title                                               tags\n",
       "0  19995  Avatar  in the 22nd century, a paraplegic marine is di..."
      ]
     },
     "execution_count": 29,
     "metadata": {},
     "output_type": "execute_result"
    }
   ],
   "source": [
    "movies.head(1)"
   ]
  },
  {
   "cell_type": "code",
   "execution_count": 30,
   "id": "e3871f60-6bd6-4ba2-8fb5-19f2f1bd76d8",
   "metadata": {},
   "outputs": [
    {
     "data": {
      "text/html": [
       "<div>\n",
       "<style scoped>\n",
       "    .dataframe tbody tr th:only-of-type {\n",
       "        vertical-align: middle;\n",
       "    }\n",
       "\n",
       "    .dataframe tbody tr th {\n",
       "        vertical-align: top;\n",
       "    }\n",
       "\n",
       "    .dataframe thead th {\n",
       "        text-align: right;\n",
       "    }\n",
       "</style>\n",
       "<table border=\"1\" class=\"dataframe\">\n",
       "  <thead>\n",
       "    <tr style=\"text-align: right;\">\n",
       "      <th></th>\n",
       "      <th>movie_id</th>\n",
       "      <th>title</th>\n",
       "      <th>tags</th>\n",
       "    </tr>\n",
       "  </thead>\n",
       "  <tbody>\n",
       "    <tr>\n",
       "      <th>0</th>\n",
       "      <td>19995</td>\n",
       "      <td>Avatar</td>\n",
       "      <td>in the 22nd century, a paraplegic marine is di...</td>\n",
       "    </tr>\n",
       "    <tr>\n",
       "      <th>1</th>\n",
       "      <td>285</td>\n",
       "      <td>Pirates of the Caribbean: At World's End</td>\n",
       "      <td>captain barbossa, long believed to be dead, ha...</td>\n",
       "    </tr>\n",
       "    <tr>\n",
       "      <th>2</th>\n",
       "      <td>206647</td>\n",
       "      <td>Spectre</td>\n",
       "      <td>a cryptic message from bond’s past sends him o...</td>\n",
       "    </tr>\n",
       "    <tr>\n",
       "      <th>3</th>\n",
       "      <td>49026</td>\n",
       "      <td>The Dark Knight Rises</td>\n",
       "      <td>following the death of district attorney harve...</td>\n",
       "    </tr>\n",
       "    <tr>\n",
       "      <th>4</th>\n",
       "      <td>49529</td>\n",
       "      <td>John Carter</td>\n",
       "      <td>john carter is a war-weary, former military ca...</td>\n",
       "    </tr>\n",
       "    <tr>\n",
       "      <th>...</th>\n",
       "      <td>...</td>\n",
       "      <td>...</td>\n",
       "      <td>...</td>\n",
       "    </tr>\n",
       "    <tr>\n",
       "      <th>4804</th>\n",
       "      <td>9367</td>\n",
       "      <td>El Mariachi</td>\n",
       "      <td>el mariachi just wants to play his guitar and ...</td>\n",
       "    </tr>\n",
       "    <tr>\n",
       "      <th>4805</th>\n",
       "      <td>72766</td>\n",
       "      <td>Newlyweds</td>\n",
       "      <td>a newlywed couple's honeymoon is upended by th...</td>\n",
       "    </tr>\n",
       "    <tr>\n",
       "      <th>4806</th>\n",
       "      <td>231617</td>\n",
       "      <td>Signed, Sealed, Delivered</td>\n",
       "      <td>\"signed, sealed, delivered\" introduces a dedic...</td>\n",
       "    </tr>\n",
       "    <tr>\n",
       "      <th>4807</th>\n",
       "      <td>126186</td>\n",
       "      <td>Shanghai Calling</td>\n",
       "      <td>when ambitious new york attorney sam is sent t...</td>\n",
       "    </tr>\n",
       "    <tr>\n",
       "      <th>4808</th>\n",
       "      <td>25975</td>\n",
       "      <td>My Date with Drew</td>\n",
       "      <td>ever since the second grade when he first saw ...</td>\n",
       "    </tr>\n",
       "  </tbody>\n",
       "</table>\n",
       "<p>4806 rows × 3 columns</p>\n",
       "</div>"
      ],
      "text/plain": [
       "      movie_id                                     title  \\\n",
       "0        19995                                    Avatar   \n",
       "1          285  Pirates of the Caribbean: At World's End   \n",
       "2       206647                                   Spectre   \n",
       "3        49026                     The Dark Knight Rises   \n",
       "4        49529                               John Carter   \n",
       "...        ...                                       ...   \n",
       "4804      9367                               El Mariachi   \n",
       "4805     72766                                 Newlyweds   \n",
       "4806    231617                 Signed, Sealed, Delivered   \n",
       "4807    126186                          Shanghai Calling   \n",
       "4808     25975                         My Date with Drew   \n",
       "\n",
       "                                                   tags  \n",
       "0     in the 22nd century, a paraplegic marine is di...  \n",
       "1     captain barbossa, long believed to be dead, ha...  \n",
       "2     a cryptic message from bond’s past sends him o...  \n",
       "3     following the death of district attorney harve...  \n",
       "4     john carter is a war-weary, former military ca...  \n",
       "...                                                 ...  \n",
       "4804  el mariachi just wants to play his guitar and ...  \n",
       "4805  a newlywed couple's honeymoon is upended by th...  \n",
       "4806  \"signed, sealed, delivered\" introduces a dedic...  \n",
       "4807  when ambitious new york attorney sam is sent t...  \n",
       "4808  ever since the second grade when he first saw ...  \n",
       "\n",
       "[4806 rows x 3 columns]"
      ]
     },
     "execution_count": 30,
     "metadata": {},
     "output_type": "execute_result"
    }
   ],
   "source": [
    "movies.rename(columns={'id':'movie_id'})"
   ]
  },
  {
   "cell_type": "markdown",
   "id": "9510eec7-a9c7-4cba-a5b0-6a242a617ff1",
   "metadata": {},
   "source": [
    "Now that we have the final version of our dataframe, we can get started with vectorisation of the tags. Using this, we'll try to find the similarity between the different tags and suggest the closest movies to the selected movie.\n",
    "\n",
    "However, we need to first remove the stopwords from the tags (is, in, of etc..) as they'll be present in almost every sentence and should not be considered to derive similarity"
   ]
  },
  {
   "cell_type": "code",
   "execution_count": 31,
   "id": "7a476d4c-6649-4421-8093-69aaef995196",
   "metadata": {},
   "outputs": [],
   "source": [
    "from sklearn.feature_extraction.text import CountVectorizer\n",
    "cv = CountVectorizer(max_features=1000, stop_words='english')"
   ]
  },
  {
   "cell_type": "code",
   "execution_count": 43,
   "id": "52752299-221b-4114-bdb9-1fc3f46fb414",
   "metadata": {},
   "outputs": [],
   "source": [
    "vectors = cv.fit_transform(movies['tags']).toarray()"
   ]
  },
  {
   "cell_type": "markdown",
   "id": "720e90ea-31d1-45cd-b0fc-bfd487d3581d",
   "metadata": {},
   "source": [
    "\n",
    "Using CountVectorizer, we can check what the most repeated features from our corpus. Let's see what they are\n"
   ]
  },
  {
   "cell_type": "code",
   "execution_count": 40,
   "id": "09dfb3b3-599d-41b4-8e3b-f25107254337",
   "metadata": {},
   "outputs": [
    {
     "data": {
      "text/plain": [
       "array(['000', '10', '1950', '1970', '3d', 'abandon', 'abus', 'accept',\n",
       "       'accid', 'accident', 'act', 'action', 'actor', 'actual', 'adapt',\n",
       "       'addict', 'adopt', 'adulteri', 'adventur', 'affair', 'affect',\n",
       "       'africa', 'african', 'aftercreditssting', 'age', 'agent', 'ago',\n",
       "       'agre', 'aid', 'airplan', 'alcohol', 'alex', 'alien', 'alive',\n",
       "       'alli', 'allow', 'alway', 'america', 'american', 'ancient',\n",
       "       'angel', 'angeles', 'ani', 'anim', 'anoth', 'answer', 'anyth',\n",
       "       'apart', 'apocalypt', 'appear', 'arm', 'armi', 'arrest', 'arriv',\n",
       "       'art', 'artist', 'ask', 'aspir', 'assassin', 'assign', 'assist',\n",
       "       'astronaut', 'attack', 'attempt', 'attract', 'author', 'away',\n",
       "       'babi', 'bad', 'band', 'bank', 'bar', 'base', 'basebal',\n",
       "       'basedoncomicbook', 'basedonnovel', 'basedontruestori',\n",
       "       'basedonyoungadultnovel', 'basketbal', 'battl', 'beach', 'bear',\n",
       "       'beat', 'beauti', 'becaus', 'becom', 'befor', 'befriend', 'begin',\n",
       "       'believ', 'belov', 'ben', 'benstil', 'berlin', 'best',\n",
       "       'bestfriend', 'betray', 'better', 'big', 'biographi', 'birthday',\n",
       "       'black', 'blackmail', 'blood', 'bodi', 'bomb', 'bond', 'book',\n",
       "       'born', 'boss', 'box', 'boy', 'boyfriend', 'break', 'bring',\n",
       "       'british', 'brother', 'brotherbrotherrelationship',\n",
       "       'brothersisterrelationship', 'brucewilli', 'brutal', 'buddi',\n",
       "       'build', 'busi', 'businessman', 'california', 'camp', 'cancer',\n",
       "       'captain', 'captur', 'car', 'care', 'career', 'carri', 'case',\n",
       "       'cast', 'cat', 'catch', 'caught', 'caus', 'celebr', 'center',\n",
       "       'centuri', 'century', 'challeng', 'chanc', 'chang', 'charact',\n",
       "       'charg', 'charli', 'chase', 'chicago', 'child', 'childhood',\n",
       "       'children', 'china', 'christian', 'christma', 'church', 'cia',\n",
       "       'citi', 'city', 'civil', 'claim', 'class', 'classic',\n",
       "       'clinteastwood', 'close', 'club', 'coach', 'collect', 'colleg',\n",
       "       'come', 'comedi', 'comic', 'comingofag', 'command', 'commit',\n",
       "       'commun', 'compani', 'compet', 'competit', 'complet', 'complic',\n",
       "       'comput', 'confront', 'connect', 'conspiraci', 'continu',\n",
       "       'control', 'convict', 'convinc', 'cop', 'corpor', 'corrupt',\n",
       "       'countri', 'country', 'coupl', 'courag', 'cours', 'court', 'cover',\n",
       "       'crash', 'creat', 'creatur', 'crew', 'crime', 'crimin', 'cross',\n",
       "       'crush', 'curs', 'dad', 'danc', 'dancer', 'danger', 'danni',\n",
       "       'dark', 'date', 'daughter', 'david', 'day', 'dead', 'deadli',\n",
       "       'deal', 'dealer', 'death', 'decid', 'deep', 'defeat', 'defend',\n",
       "       'demand', 'demon', 'desert', 'desir', 'desper', 'despit',\n",
       "       'destroy', 'detect', 'determin', 'develop', 'die', 'differ',\n",
       "       'dinosaur', 'direct', 'director', 'disappear', 'discov',\n",
       "       'discoveri', 'divorc', 'doctor', 'documentari', 'doe', 'doesn',\n",
       "       'dog', 'don', 'door', 'dr', 'dragon', 'drama', 'drawn', 'dream',\n",
       "       'drink', 'drive', 'driver', 'drug', 'drugdeal', 'dure',\n",
       "       'duringcreditssting', 'dyinganddeath', 'dystopia', 'earli',\n",
       "       'earth', 'east', 'eccentr', 'effort', 'elit', 'embark', 'emot',\n",
       "       'encount', 'end', 'enemi', 'engag', 'england', 'english', 'enlist',\n",
       "       'enter', 'entir', 'epic', 'escap', 'especi', 'estrang', 'eve',\n",
       "       'event', 'eventu', 'everi', 'everyon', 'everyth', 'evil', 'ex',\n",
       "       'execut', 'exist', 'experi', 'explor', 'explos', 'expos', 'extrem',\n",
       "       'eye', 'face', 'fail', 'faith', 'fall', 'fame', 'famili', 'family',\n",
       "       'famou', 'fantasi', 'far', 'farm', 'fast', 'fate', 'father',\n",
       "       'fathersonrelationship', 'fbi', 'fear', 'featur', 'feel', 'fellow',\n",
       "       'femal', 'femalenud', 'fiction', 'fight', 'fighter', 'figur',\n",
       "       'film', 'filmmak', 'final', 'flashback', 'fli', 'florida',\n",
       "       'follow', 'food', 'forc', 'foreign', 'forest', 'forever', 'form',\n",
       "       'franc', 'frank', 'free', 'freedom', 'french', 'friend', 'friends',\n",
       "       'friendship', 'funer', 'futur', 'future', 'game', 'gang',\n",
       "       'gangster', 'gay', 'gener', 'georg', 'ghost', 'gift', 'girl',\n",
       "       'girlfriend', 'global', 'god', 'goe', 'gold', 'gone', 'good',\n",
       "       'gore', 'govern', 'graduat', 'great', 'greatest', 'green', 'group',\n",
       "       'grow', 'grown', 'guard', 'gun', 'guy', 'ha', 'half', 'hand',\n",
       "       'happen', 'happi', 'hard', 'harri', 'haunt', 'head', 'heart',\n",
       "       'heist', 'helicopt', 'hell', 'help', 'henri', 'hero', 'hi', 'hide',\n",
       "       'high', 'highschool', 'hip', 'hire', 'histori', 'hit', 'hitman',\n",
       "       'hold', 'holiday', 'hollywood', 'home', 'hometown', 'hop', 'hope',\n",
       "       'horror', 'hors', 'hospit', 'hostag', 'hot', 'hotel', 'hour',\n",
       "       'hous', 'house', 'human', 'hunt', 'hunter', 'husband', 'ice',\n",
       "       'idea', 'ident', 'ii', 'ill', 'immigr', 'includ',\n",
       "       'independentfilm', 'india', 'indian', 'infidel', 'innoc', 'insid',\n",
       "       'inspir', 'instead', 'intellig', 'intern', 'interview', 'inventor',\n",
       "       'investig', 'invit', 'involv', 'irish', 'island', 'isn', 'isol',\n",
       "       'jack', 'jackson', 'jail', 'jame', 'japan', 'jason', 'jealousi',\n",
       "       'jean', 'jewish', 'jim', 'jimmi', 'job', 'joe', 'john', 'join',\n",
       "       'journalist', 'journey', 'jungl', 'just', 'justic', 'kevin', 'key',\n",
       "       'kid', 'kidnap', 'kids', 'kill', 'killer', 'king', 'kingdom',\n",
       "       'knight', 'know', 'known', 'la', 'lake', 'land', 'late', 'later',\n",
       "       'latest', 'law', 'lawyer', 'lead', 'leader', 'learn', 'leav',\n",
       "       'led', 'lee', 'left', 'legend', 'legendari', 'letter', 'lie',\n",
       "       'life', 'light', 'like', 'line', 'littl', 'live', 'lives', 'll',\n",
       "       'lo', 'local', 'london', 'londonengland', 'lone', 'long', 'look',\n",
       "       'lord', 'losangel', 'lose', 'lost', 'love', 'loveofone', 'lover',\n",
       "       'luck', 'mad', 'mafia', 'magic', 'major', 'make', 'male', 'man',\n",
       "       'manag', 'mani', 'mark', 'marri', 'marriag', 'martialart',\n",
       "       'martin', 'marvelcom', 'mask', 'master', 'match', 'mattdamon',\n",
       "       'max', 'mean', 'medic', 'meet', 'member', 'memori', 'men',\n",
       "       'mental', 'mercenari', 'mexican', 'mexico', 'michael', 'middl',\n",
       "       'mike', 'militari', 'million', 'mind', 'miss', 'mission', 'mob',\n",
       "       'mobster', 'modern', 'mom', 'money', 'monster', 'month', 'mother',\n",
       "       'mountain', 'movi', 'movie', 'mr', 'murder', 'music', 'musician',\n",
       "       'mutant', 'mysteri', 'nation', 'natur', 'nazi', 'near', 'need',\n",
       "       'neighbor', 'neighborhood', 'neo', 'new', 'newlov', 'newyork',\n",
       "       'newyorkc', 'nick', 'nicolascag', 'night', 'nightclub', 'nightmar',\n",
       "       'noth', 'notori', 'novel', 'nuclear', 'nuditi', 'number', 'obsess',\n",
       "       'ocean', 'offer', 'offic', 'old', 'older', 'onc', 'onli', 'open',\n",
       "       'oper', 'opportun', 'order', 'ordinari', 'organ', 'origin',\n",
       "       'orphan', 'outlaw', 'overcom', 'owner', 'pair', 'pal', 'parent',\n",
       "       'parents', 'pari', 'park', 'parti', 'partner', 'pass', 'passion',\n",
       "       'past', 'path', 'paul', 'pay', 'peac', 'peopl', 'people',\n",
       "       'perfect', 'perform', 'person', 'peter', 'photograph', 'pilot',\n",
       "       'pirat', 'place', 'plan', 'plane', 'planet', 'play', 'player',\n",
       "       'plot', 'point', 'polic', 'polit', 'politician', 'popular',\n",
       "       'possess', 'possibl', 'post', 'power', 'pregnant', 'prepar',\n",
       "       'present', 'presid', 'prevent', 'priest', 'princ', 'princess',\n",
       "       'prison', 'privat', 'problem', 'process', 'produc', 'profession',\n",
       "       'professor', 'program', 'promis', 'prostitut', 'protect', 'prove',\n",
       "       'psychiatrist', 'psychopath', 'public', 'pull', 'pursu', 'queen',\n",
       "       'quest', 'question', 'quickli', 'race', 'radio', 'rais', 'rape',\n",
       "       'ray', 'reach', 'readi', 'real', 'realiti', 'realiz', 'realli',\n",
       "       'rebel', 'receiv', 'recent', 'record', 'recov', 'recruit',\n",
       "       'relationship', 'releas', 'remain', 'remak', 'remot', 'report',\n",
       "       'rescu', 'research', 'resid', 'resist', 'respons', 'rest',\n",
       "       'restaur', 'result', 'retir', 'return', 'reunit', 'reveal',\n",
       "       'reveng', 'revenge', 'rich', 'richard', 'ride', 'right', 'ring',\n",
       "       'rise', 'risk', 'rival', 'rivalri', 'road', 'rob', 'robberi',\n",
       "       'robert', 'robertdeniro', 'robot', 'rock', 'role', 'romanc',\n",
       "       'romant', 'romanticcomedi', 'room', 'rule', 'run', 'russian',\n",
       "       'ruthless', 'ryan', 'safe', 'sam', 'samuell', 'san', 'save',\n",
       "       'savingtheworld', 'scene', 'scheme', 'school', 'sciencefict',\n",
       "       'scientist', 'scott', 'sea', 'search', 'season', 'second',\n",
       "       'secret', 'secretident', 'secur', 'seek', 'seemingli', 'seen',\n",
       "       'self', 'sell', 'send', 'sent', 'separ', 'sequel', 'seri',\n",
       "       'serial', 'serialkil', 'serv', 'servic', 'set', 'seven', 'sever',\n",
       "       'sex', 'sexual', 'share', 'shark', 'sheriff', 'ship', 'shock',\n",
       "       'shootout', 'shop', 'shot', 'sign', 'sinc', 'singer', 'singl',\n",
       "       'sister', 'sistersisterrelationship', 'situat', 'skill', 'slasher',\n",
       "       'slave', 'slif', 'small', 'smalltown', 'snow', 'social', 'societi',\n",
       "       'soldier', 'someth', 'son', 'soon', 'soul', 'south', 'space',\n",
       "       'special', 'spend', 'spi', 'spirit', 'spoof', 'sport', 'stage',\n",
       "       'stand', 'star', 'start', 'state', 'station', 'stay', 'steal',\n",
       "       'step', 'steve', 'stolen', 'stop', 'store', 'stori', 'storm',\n",
       "       'story', 'strand', 'strang', 'stranger', 'street', 'strike',\n",
       "       'struggl', 'student', 'stumbl', 'success', 'suddenli', 'suffer',\n",
       "       'suicid', 'summer', 'superhero', 'supernatur', 'superpow',\n",
       "       'surpris', 'surviv', 'survivor', 'suspect', 'suspens', 'taken',\n",
       "       'tale', 'talent', 'talk', 'target', 'task', 'teach', 'teacher',\n",
       "       'team', 'technolog', 'teen', 'teenag', 'televis', 'tell',\n",
       "       'terrifi', 'terror', 'terrorist', 'test', 'texa', 'themselv',\n",
       "       'thi', 'thief', 'thing', 'think', 'thought', 'threat', 'threaten',\n",
       "       'thriller', 'tim', 'time', 'timetravel', 'togeth', 'told', 'tom',\n",
       "       'tortur', 'tough', 'tour', 'town', 'track', 'tragedi', 'train',\n",
       "       'transform', 'transport', 'trap', 'travel', 'tri', 'trial', 'trip',\n",
       "       'troubl', 'true', 'trust', 'truth', 'turn', 'tv', 'twin', 'ultim',\n",
       "       'uncl', 'uncov', 'undercov', 'underground', 'underworld',\n",
       "       'unexpect', 'unit', 'univers', 'unlik', 'usa', 'usapresid', 'use',\n",
       "       'vacat', 'vampir', 'van', 'variou', 'veri', 'veteran', 'victim',\n",
       "       'video', 'villag', 'villain', 'violenc', 'violent', 'virgin',\n",
       "       'viru', 'visit', 'wa', 'wait', 'wake', 'walk', 'wall', 'want',\n",
       "       'war', 'warrior', 'watch', 'water', 'way', 'wealthi', 'weapon',\n",
       "       'wed', 'week', 'west', 'western', 'white', 'widow', 'wife',\n",
       "       'wifehusbandrelationship', 'wild', 'william', 'win', 'winter',\n",
       "       'wish', 'wit', 'witch', 'woman', 'womandirector', 'women', 'won',\n",
       "       'woodyallen', 'work', 'worker', 'world', 'worldwarii', 'writer',\n",
       "       'wrong', 'year', 'years', 'york', 'young', 'younger', 'youth',\n",
       "       'zombi'], dtype=object)"
      ]
     },
     "execution_count": 40,
     "metadata": {},
     "output_type": "execute_result"
    }
   ],
   "source": [
    "cv.get_feature_names_out()"
   ]
  },
  {
   "cell_type": "markdown",
   "id": "34913cbb-9b2e-43d8-ab6a-34b4a88160fb",
   "metadata": {},
   "source": [
    "If you see the words above, the features include same word but in different tenses, plural-singular types, which is not ideal to find similarities. So, we need to convert all the features into their root words using stemming"
   ]
  },
  {
   "cell_type": "code",
   "execution_count": 34,
   "id": "f35c5138-5908-4781-b447-b69b8af8b6af",
   "metadata": {},
   "outputs": [],
   "source": [
    "from nltk.stem.porter import PorterStemmer\n",
    "ps = PorterStemmer()"
   ]
  },
  {
   "cell_type": "markdown",
   "id": "c14d6a76-d8bf-4dd4-a35f-27642d2008b0",
   "metadata": {},
   "source": [
    "Now that we have created the object of PorterStemmer class, let's create a helper function to stem our tags text"
   ]
  },
  {
   "cell_type": "code",
   "execution_count": 35,
   "id": "5e2080b1-0da7-47e6-a3e6-2725271a6f37",
   "metadata": {},
   "outputs": [],
   "source": [
    "def text_stem(text):\n",
    "    new_tags = []\n",
    "    for i in text.split():\n",
    "        new_tags.append(ps.stem(i))\n",
    "    return \" \".join(new_tags)"
   ]
  },
  {
   "cell_type": "code",
   "execution_count": 36,
   "id": "b1b27d22-45ed-457a-b272-7cf8c0f3715a",
   "metadata": {},
   "outputs": [
    {
     "name": "stderr",
     "output_type": "stream",
     "text": [
      "/var/folders/40/s1y2tk9s1lg1gxbk041r8mhm0000gp/T/ipykernel_8063/2974792824.py:1: SettingWithCopyWarning: \n",
      "A value is trying to be set on a copy of a slice from a DataFrame.\n",
      "Try using .loc[row_indexer,col_indexer] = value instead\n",
      "\n",
      "See the caveats in the documentation: https://pandas.pydata.org/pandas-docs/stable/user_guide/indexing.html#returning-a-view-versus-a-copy\n",
      "  movies['tags'] = movies['tags'].apply(text_stem)\n"
     ]
    }
   ],
   "source": [
    "movies['tags'] = movies['tags'].apply(text_stem)"
   ]
  },
  {
   "cell_type": "code",
   "execution_count": 41,
   "id": "ff0827ad-8f50-40ef-a37a-fab0716a1e4a",
   "metadata": {},
   "outputs": [
    {
     "data": {
      "text/html": [
       "<div>\n",
       "<style scoped>\n",
       "    .dataframe tbody tr th:only-of-type {\n",
       "        vertical-align: middle;\n",
       "    }\n",
       "\n",
       "    .dataframe tbody tr th {\n",
       "        vertical-align: top;\n",
       "    }\n",
       "\n",
       "    .dataframe thead th {\n",
       "        text-align: right;\n",
       "    }\n",
       "</style>\n",
       "<table border=\"1\" class=\"dataframe\">\n",
       "  <thead>\n",
       "    <tr style=\"text-align: right;\">\n",
       "      <th></th>\n",
       "      <th>id</th>\n",
       "      <th>title</th>\n",
       "      <th>tags</th>\n",
       "    </tr>\n",
       "  </thead>\n",
       "  <tbody>\n",
       "    <tr>\n",
       "      <th>0</th>\n",
       "      <td>19995</td>\n",
       "      <td>Avatar</td>\n",
       "      <td>in the 22nd century, a parapleg marin is dispa...</td>\n",
       "    </tr>\n",
       "  </tbody>\n",
       "</table>\n",
       "</div>"
      ],
      "text/plain": [
       "      id   title                                               tags\n",
       "0  19995  Avatar  in the 22nd century, a parapleg marin is dispa..."
      ]
     },
     "execution_count": 41,
     "metadata": {},
     "output_type": "execute_result"
    }
   ],
   "source": [
    "movies.head(1)"
   ]
  },
  {
   "cell_type": "markdown",
   "id": "9a83f295-f9fd-4dba-8cd2-aac860004225",
   "metadata": {},
   "source": [
    "We are good to go for calcluating the similarity between the movie vectors. But instead of euclidean distance, we'll use the cosine distance which gives us the angle between the vectors. Lesser the angle, more is the similarity"
   ]
  },
  {
   "cell_type": "code",
   "execution_count": 45,
   "id": "5213da6c-7997-49c3-9d2e-0d49f4d1878c",
   "metadata": {},
   "outputs": [],
   "source": [
    "from sklearn.metrics.pairwise import cosine_similarity\n",
    "similarity = cosine_similarity(vectors)"
   ]
  },
  {
   "cell_type": "markdown",
   "id": "a0abb8ac-7f87-4898-8f3a-e89eaf8a1dca",
   "metadata": {},
   "source": [
    "Let's create a helper function to recommend top 5 similar movies"
   ]
  },
  {
   "cell_type": "code",
   "execution_count": 70,
   "id": "6fe9e692-086d-4c22-86de-053177c8b577",
   "metadata": {},
   "outputs": [],
   "source": [
    "def recommend(movie):\n",
    "    movie_index = movies[movies['title']==movie].index[0]\n",
    "    five_similar_movies = sorted(list(enumerate(similarity[0])), reverse=True, key=lambda x:x[1])[1:6]\n",
    "    \n",
    "    for sim in five_similar_movies:\n",
    "        print(movies.iloc[sim[0]].title)"
   ]
  },
  {
   "cell_type": "code",
   "execution_count": 71,
   "id": "a7211451-7cf4-4fb6-919d-54214f5c7383",
   "metadata": {},
   "outputs": [
    {
     "name": "stdout",
     "output_type": "stream",
     "text": [
      "Independence Day\n",
      "Aliens vs Predator: Requiem\n",
      "Beowulf\n",
      "Small Soldiers\n",
      "Titan A.E.\n"
     ]
    }
   ],
   "source": [
    "recommend('Batman Begins')"
   ]
  },
  {
   "cell_type": "code",
   "execution_count": 74,
   "id": "53147ca4-ebd9-4e05-9d29-af4c1e493226",
   "metadata": {},
   "outputs": [],
   "source": [
    "pickle.dump(movies, open('movies.pkl', 'wb'))"
   ]
  },
  {
   "cell_type": "code",
   "execution_count": 75,
   "id": "46286ca6-ce15-41a9-9b48-897370d96677",
   "metadata": {},
   "outputs": [],
   "source": [
    "pickle.dump(similarity, open('similarity.pkl', 'wb'))"
   ]
  },
  {
   "cell_type": "code",
   "execution_count": null,
   "id": "3d236d00-efe2-48a4-abb8-1266c45e035d",
   "metadata": {},
   "outputs": [],
   "source": []
  }
 ],
 "metadata": {
  "kernelspec": {
   "display_name": "Python 3 (ipykernel)",
   "language": "python",
   "name": "python3"
  },
  "language_info": {
   "codemirror_mode": {
    "name": "ipython",
    "version": 3
   },
   "file_extension": ".py",
   "mimetype": "text/x-python",
   "name": "python",
   "nbconvert_exporter": "python",
   "pygments_lexer": "ipython3",
   "version": "3.8.2"
  }
 },
 "nbformat": 4,
 "nbformat_minor": 5
}
